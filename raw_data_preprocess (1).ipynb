{
 "cells": [
  {
   "cell_type": "code",
   "execution_count": 249,
   "metadata": {},
   "outputs": [],
   "source": [
    "import os\n",
    "import sys\n",
    "#import urllib.request\n",
    "import pandas as pd\n",
    "import glob\n",
    "import csv"
   ]
  },
  {
   "cell_type": "code",
   "execution_count": 254,
   "metadata": {},
   "outputs": [
    {
     "data": {
      "text/plain": [
       "['20170218.txt', '2017024.txt', '20170211.txt', '20170225.txt']"
      ]
     },
     "execution_count": 254,
     "metadata": {},
     "output_type": "execute_result"
    }
   ],
   "source": [
    "# January data\n",
    "files"
   ]
  },
  {
   "cell_type": "code",
   "execution_count": 255,
   "metadata": {},
   "outputs": [],
   "source": [
    "files = glob.glob('*20170*.txt')   \n",
    "\n",
    "\n",
    "jdf = pd.concat([pd.read_csv(file) for file in files],axis=0 ,ignore_index=True)"
   ]
  },
  {
   "cell_type": "code",
   "execution_count": 240,
   "metadata": {},
   "outputs": [
    {
     "data": {
      "text/plain": [
       "(400965, 11)"
      ]
     },
     "execution_count": 240,
     "metadata": {},
     "output_type": "execute_result"
    }
   ],
   "source": [
    "jdf .shape"
   ]
  },
  {
   "cell_type": "markdown",
   "metadata": {},
   "source": [
    "### Code to calculate the number of daylight hours and set the daylight saving time entry hours to original time to have consistency in the dataset"
   ]
  },
  {
   "cell_type": "code",
   "execution_count": 256,
   "metadata": {},
   "outputs": [],
   "source": [
    "import datetime\n",
    "from datetime import timedelta\n",
    "#from datetime import datetime.strptime\n",
    "import pytz\n",
    "def getUTCtransitiontimes():\n",
    "    df = pd.DataFrame(columns=['YEAR' ,'DTS_START' , 'DTS_END'])\n",
    "    tz = pytz.timezone(\"America/New_York\")\n",
    "    dfutt_tmp = pd.DataFrame(tz._utc_transition_times , columns=[\"DATETIME\"])\n",
    "    dfutt_tmp['YEAR'] = dfutt_tmp['DATETIME'].map(lambda x: x.date().year)\n",
    "    \n",
    "    for name,group in dfutt_tmp.groupby(dfutt_tmp['YEAR']):\n",
    "        if len(group) > 1:\n",
    "            s = [{'YEAR': name , 'DTS_START' : group['DATETIME'].values[0] ,'DTS_END' : group['DATETIME'].values[1] }]\n",
    "            df = df.append(s)\n",
    "            \n",
    "    df = df.set_index(['YEAR'])\n",
    "            \n",
    "    return df\n",
    "        \n",
    "\n",
    "    \n",
    "\n",
    "    "
   ]
  },
  {
   "cell_type": "code",
   "execution_count": 257,
   "metadata": {},
   "outputs": [],
   "source": [
    "dfUTCtt = getUTCtransitiontimes()"
   ]
  },
  {
   "cell_type": "code",
   "execution_count": 260,
   "metadata": {},
   "outputs": [
    {
     "data": {
      "text/plain": [
       "DTS_START    datetime64[ns]\n",
       "DTS_END      datetime64[ns]\n",
       "dtype: object"
      ]
     },
     "execution_count": 260,
     "metadata": {},
     "output_type": "execute_result"
    }
   ],
   "source": [
    "dfUTCtt.dtypes"
   ]
  },
  {
   "cell_type": "code",
   "execution_count": null,
   "metadata": {},
   "outputs": [],
   "source": [
    "import pandas as pd"
   ]
  },
  {
   "cell_type": "code",
   "execution_count": 269,
   "metadata": {},
   "outputs": [],
   "source": [
    "dfUTCtt['DTS_END'] = pd.to_datetime(dfUTCtt['DTS_END'])"
   ]
  },
  {
   "cell_type": "code",
   "execution_count": 273,
   "metadata": {},
   "outputs": [],
   "source": [
    "dfUTCtt['DAYLIGHT_HOURS'] = dfUTCtt['DTS_END'].dt.hour +12  - dfUTCtt['DTS_START'].dt.hour"
   ]
  },
  {
   "cell_type": "code",
   "execution_count": 275,
   "metadata": {},
   "outputs": [
    {
     "data": {
      "text/html": [
       "<div>\n",
       "<style scoped>\n",
       "    .dataframe tbody tr th:only-of-type {\n",
       "        vertical-align: middle;\n",
       "    }\n",
       "\n",
       "    .dataframe tbody tr th {\n",
       "        vertical-align: top;\n",
       "    }\n",
       "\n",
       "    .dataframe thead th {\n",
       "        text-align: right;\n",
       "    }\n",
       "</style>\n",
       "<table border=\"1\" class=\"dataframe\">\n",
       "  <thead>\n",
       "    <tr style=\"text-align: right;\">\n",
       "      <th></th>\n",
       "      <th>DTS_START</th>\n",
       "      <th>DTS_END</th>\n",
       "      <th>DAYLIGHT_HOURS</th>\n",
       "    </tr>\n",
       "    <tr>\n",
       "      <th>YEAR</th>\n",
       "      <th></th>\n",
       "      <th></th>\n",
       "      <th></th>\n",
       "    </tr>\n",
       "  </thead>\n",
       "  <tbody>\n",
       "    <tr>\n",
       "      <th>2033</th>\n",
       "      <td>2033-03-13 07:00:00</td>\n",
       "      <td>2033-11-06 06:00:00</td>\n",
       "      <td>11</td>\n",
       "    </tr>\n",
       "    <tr>\n",
       "      <th>2034</th>\n",
       "      <td>2034-03-12 07:00:00</td>\n",
       "      <td>2034-11-05 06:00:00</td>\n",
       "      <td>11</td>\n",
       "    </tr>\n",
       "    <tr>\n",
       "      <th>2035</th>\n",
       "      <td>2035-03-11 07:00:00</td>\n",
       "      <td>2035-11-04 06:00:00</td>\n",
       "      <td>11</td>\n",
       "    </tr>\n",
       "    <tr>\n",
       "      <th>2036</th>\n",
       "      <td>2036-03-09 07:00:00</td>\n",
       "      <td>2036-11-02 06:00:00</td>\n",
       "      <td>11</td>\n",
       "    </tr>\n",
       "    <tr>\n",
       "      <th>2037</th>\n",
       "      <td>2037-03-08 07:00:00</td>\n",
       "      <td>2037-11-01 06:00:00</td>\n",
       "      <td>11</td>\n",
       "    </tr>\n",
       "  </tbody>\n",
       "</table>\n",
       "</div>"
      ],
      "text/plain": [
       "               DTS_START             DTS_END  DAYLIGHT_HOURS\n",
       "YEAR                                                        \n",
       "2033 2033-03-13 07:00:00 2033-11-06 06:00:00              11\n",
       "2034 2034-03-12 07:00:00 2034-11-05 06:00:00              11\n",
       "2035 2035-03-11 07:00:00 2035-11-04 06:00:00              11\n",
       "2036 2036-03-09 07:00:00 2036-11-02 06:00:00              11\n",
       "2037 2037-03-08 07:00:00 2037-11-01 06:00:00              11"
      ]
     },
     "execution_count": 275,
     "metadata": {},
     "output_type": "execute_result"
    }
   ],
   "source": [
    "dfUTCtt.tail()"
   ]
  },
  {
   "cell_type": "markdown",
   "metadata": {},
   "source": [
    "## Keep only the regular entries . Discard the outliers and audit entries"
   ]
  },
  {
   "cell_type": "code",
   "execution_count": 242,
   "metadata": {},
   "outputs": [],
   "source": [
    "\n",
    "dfUTCtt = getUTCtransitiontimes()\n",
    "    \n",
    "jdf = jdf[jdf['DESC'] == 'REGULAR']\n",
    "    \n",
    "    #adjust for daylight saving time (dst)\n",
    "jdf['DATETIME'] = jdf['DATE'] + \" \" + jdf['TIME']\n",
    "    \n",
    "jdf['DATETIME'] = jdf['DATETIME'].map(lambda x: datetime.datetime.strptime(x, \"%m/%d/%Y %H:%M:%S\"))\n",
    "    \n"
   ]
  },
  {
   "cell_type": "code",
   "execution_count": null,
   "metadata": {},
   "outputs": [],
   "source": [
    "dfUTCtt.head()"
   ]
  },
  {
   "cell_type": "code",
   "execution_count": 243,
   "metadata": {},
   "outputs": [
    {
     "name": "stderr",
     "output_type": "stream",
     "text": [
      "/usr/local/Anaconda3-5.0.0-Linux-x86_64/envs/ADS/lib/python3.5/site-packages/ipykernel_launcher.py:2: DeprecationWarning: \n",
      ".ix is deprecated. Please use\n",
      ".loc for label based indexing or\n",
      ".iloc for positional indexing\n",
      "\n",
      "See the documentation here:\n",
      "http://pandas.pydata.org/pandas-docs/stable/indexing.html#ix-indexer-is-deprecated\n",
      "  \n"
     ]
    }
   ],
   "source": [
    "jdf.ix[jdf['DATETIME'].map(lambda x: ((x > dfUTCtt.loc[x.date().year].values[0]) & (x < dfUTCtt.loc[x.date().year].values[1]))),\n",
    "           'DATETIME'] = jdf['DATETIME'].map(lambda x: x - timedelta(hours=1))"
   ]
  },
  {
   "cell_type": "code",
   "execution_count": 244,
   "metadata": {},
   "outputs": [
    {
     "name": "stderr",
     "output_type": "stream",
     "text": [
      "/usr/local/Anaconda3-5.0.0-Linux-x86_64/envs/ADS/lib/python3.5/site-packages/ipykernel_launcher.py:4: DeprecationWarning: \n",
      ".ix is deprecated. Please use\n",
      ".loc for label based indexing or\n",
      ".iloc for positional indexing\n",
      "\n",
      "See the documentation here:\n",
      "http://pandas.pydata.org/pandas-docs/stable/indexing.html#ix-indexer-is-deprecated\n",
      "  after removing the cwd from sys.path.\n"
     ]
    }
   ],
   "source": [
    "\n",
    "    \n",
    "    \n",
    "jdf.ix[(jdf['DATETIME'].map(lambda x: x.hour in [0,4,8,12,16,20,24])) ,'DATETIME'] = jdf['DATETIME'].map(lambda x: x - timedelta(hours=1))\n",
    "    \n",
    "jdf['DATE'] = jdf['DATETIME'].map(lambda x:x.date())\n",
    "jdf['TIME'] = jdf['DATETIME'].map(lambda x:x.time())\n",
    "    \n",
    "    \n",
    "    #remove odd reporting cycles\n",
    "    \n",
    "\n",
    "    \n",
    "    \n",
    "    \n",
    "\n",
    "    "
   ]
  },
  {
   "cell_type": "code",
   "execution_count": 245,
   "metadata": {},
   "outputs": [],
   "source": [
    "jdf = jdf[ ( jdf['TIME'] == datetime.datetime.strptime(\"03:00:00\" , \"%H:%M:%S\").time())\n",
    "        | ( jdf['TIME'] == datetime.datetime.strptime(\"07:00:00\" , \"%H:%M:%S\").time())\n",
    "        | ( jdf['TIME'] == datetime.datetime.strptime(\"11:00:00\" , \"%H:%M:%S\").time())\n",
    "        | ( jdf['TIME'] == datetime.datetime.strptime(\"15:00:00\" , \"%H:%M:%S\").time())\n",
    "        | ( jdf['TIME'] == datetime.datetime.strptime(\"19:00:00\" , \"%H:%M:%S\").time())\n",
    "        | ( jdf['TIME'] == datetime.datetime.strptime(\"23:00:00\" , \"%H:%M:%S\").time())]\n",
    "    \n",
    "    \n",
    "jdf = jdf[jdf.ENTRIES > 0]\n",
    "    "
   ]
  },
  {
   "cell_type": "code",
   "execution_count": 246,
   "metadata": {},
   "outputs": [
    {
     "data": {
      "text/html": [
       "<div>\n",
       "<style scoped>\n",
       "    .dataframe tbody tr th:only-of-type {\n",
       "        vertical-align: middle;\n",
       "    }\n",
       "\n",
       "    .dataframe tbody tr th {\n",
       "        vertical-align: top;\n",
       "    }\n",
       "\n",
       "    .dataframe thead th {\n",
       "        text-align: right;\n",
       "    }\n",
       "</style>\n",
       "<table border=\"1\" class=\"dataframe\">\n",
       "  <thead>\n",
       "    <tr style=\"text-align: right;\">\n",
       "      <th></th>\n",
       "      <th>C/A</th>\n",
       "      <th>UNIT</th>\n",
       "      <th>SCP</th>\n",
       "      <th>STATION</th>\n",
       "      <th>LINENAME</th>\n",
       "      <th>DIVISION</th>\n",
       "      <th>DATE</th>\n",
       "      <th>TIME</th>\n",
       "      <th>DESC</th>\n",
       "      <th>ENTRIES</th>\n",
       "      <th>EXITS</th>\n",
       "      <th>DATETIME</th>\n",
       "    </tr>\n",
       "  </thead>\n",
       "  <tbody>\n",
       "    <tr>\n",
       "      <th>400960</th>\n",
       "      <td>TRAM2</td>\n",
       "      <td>R469</td>\n",
       "      <td>00-05-01</td>\n",
       "      <td>RIT-ROOSEVELT</td>\n",
       "      <td>R</td>\n",
       "      <td>RIT</td>\n",
       "      <td>2018-12-07</td>\n",
       "      <td>03:00:00</td>\n",
       "      <td>REGULAR</td>\n",
       "      <td>5554</td>\n",
       "      <td>366</td>\n",
       "      <td>2018-12-07 03:00:00</td>\n",
       "    </tr>\n",
       "    <tr>\n",
       "      <th>400961</th>\n",
       "      <td>TRAM2</td>\n",
       "      <td>R469</td>\n",
       "      <td>00-05-01</td>\n",
       "      <td>RIT-ROOSEVELT</td>\n",
       "      <td>R</td>\n",
       "      <td>RIT</td>\n",
       "      <td>2018-12-07</td>\n",
       "      <td>07:00:00</td>\n",
       "      <td>REGULAR</td>\n",
       "      <td>5554</td>\n",
       "      <td>366</td>\n",
       "      <td>2018-12-07 07:00:00</td>\n",
       "    </tr>\n",
       "    <tr>\n",
       "      <th>400962</th>\n",
       "      <td>TRAM2</td>\n",
       "      <td>R469</td>\n",
       "      <td>00-05-01</td>\n",
       "      <td>RIT-ROOSEVELT</td>\n",
       "      <td>R</td>\n",
       "      <td>RIT</td>\n",
       "      <td>2018-12-07</td>\n",
       "      <td>11:00:00</td>\n",
       "      <td>REGULAR</td>\n",
       "      <td>5554</td>\n",
       "      <td>366</td>\n",
       "      <td>2018-12-07 11:00:00</td>\n",
       "    </tr>\n",
       "    <tr>\n",
       "      <th>400963</th>\n",
       "      <td>TRAM2</td>\n",
       "      <td>R469</td>\n",
       "      <td>00-05-01</td>\n",
       "      <td>RIT-ROOSEVELT</td>\n",
       "      <td>R</td>\n",
       "      <td>RIT</td>\n",
       "      <td>2018-12-07</td>\n",
       "      <td>15:00:00</td>\n",
       "      <td>REGULAR</td>\n",
       "      <td>5554</td>\n",
       "      <td>366</td>\n",
       "      <td>2018-12-07 15:00:00</td>\n",
       "    </tr>\n",
       "    <tr>\n",
       "      <th>400964</th>\n",
       "      <td>TRAM2</td>\n",
       "      <td>R469</td>\n",
       "      <td>00-05-01</td>\n",
       "      <td>RIT-ROOSEVELT</td>\n",
       "      <td>R</td>\n",
       "      <td>RIT</td>\n",
       "      <td>2018-12-07</td>\n",
       "      <td>19:00:00</td>\n",
       "      <td>REGULAR</td>\n",
       "      <td>5554</td>\n",
       "      <td>366</td>\n",
       "      <td>2018-12-07 19:00:00</td>\n",
       "    </tr>\n",
       "  </tbody>\n",
       "</table>\n",
       "</div>"
      ],
      "text/plain": [
       "          C/A  UNIT       SCP        STATION LINENAME DIVISION        DATE  \\\n",
       "400960  TRAM2  R469  00-05-01  RIT-ROOSEVELT        R      RIT  2018-12-07   \n",
       "400961  TRAM2  R469  00-05-01  RIT-ROOSEVELT        R      RIT  2018-12-07   \n",
       "400962  TRAM2  R469  00-05-01  RIT-ROOSEVELT        R      RIT  2018-12-07   \n",
       "400963  TRAM2  R469  00-05-01  RIT-ROOSEVELT        R      RIT  2018-12-07   \n",
       "400964  TRAM2  R469  00-05-01  RIT-ROOSEVELT        R      RIT  2018-12-07   \n",
       "\n",
       "            TIME     DESC  ENTRIES  \\\n",
       "400960  03:00:00  REGULAR     5554   \n",
       "400961  07:00:00  REGULAR     5554   \n",
       "400962  11:00:00  REGULAR     5554   \n",
       "400963  15:00:00  REGULAR     5554   \n",
       "400964  19:00:00  REGULAR     5554   \n",
       "\n",
       "        EXITS                                                                 \\\n",
       "400960                                                366                      \n",
       "400961                                                366                      \n",
       "400962                                                366                      \n",
       "400963                                                366                      \n",
       "400964                                                366                      \n",
       "\n",
       "                  DATETIME  \n",
       "400960 2018-12-07 03:00:00  \n",
       "400961 2018-12-07 07:00:00  \n",
       "400962 2018-12-07 11:00:00  \n",
       "400963 2018-12-07 15:00:00  \n",
       "400964 2018-12-07 19:00:00  "
      ]
     },
     "execution_count": 246,
     "metadata": {},
     "output_type": "execute_result"
    }
   ],
   "source": [
    "jdf.tail()"
   ]
  },
  {
   "cell_type": "code",
   "execution_count": 247,
   "metadata": {},
   "outputs": [],
   "source": [
    "jdf.to_csv('./t18urstileDec18.csv')"
   ]
  }
 ],
 "metadata": {
  "kernelspec": {
   "display_name": "ADS",
   "language": "python",
   "name": "ads"
  },
  "language_info": {
   "codemirror_mode": {
    "name": "ipython",
    "version": 3
   },
   "file_extension": ".py",
   "mimetype": "text/x-python",
   "name": "python",
   "nbconvert_exporter": "python",
   "pygments_lexer": "ipython3",
   "version": "3.5.0"
  }
 },
 "nbformat": 4,
 "nbformat_minor": 2
}
